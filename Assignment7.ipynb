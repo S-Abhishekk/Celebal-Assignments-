{
  "nbformat": 4,
  "nbformat_minor": 0,
  "metadata": {
    "colab": {
      "provenance": [],
      "authorship_tag": "ABX9TyMqK2FnwYrd8B5/Udj5pzEf",
      "include_colab_link": true
    },
    "kernelspec": {
      "name": "python3",
      "display_name": "Python 3"
    },
    "language_info": {
      "name": "python"
    }
  },
  "cells": [
    {
      "cell_type": "markdown",
      "metadata": {
        "id": "view-in-github",
        "colab_type": "text"
      },
      "source": [
        "<a href=\"https://colab.research.google.com/github/S-Abhishekk/Celebal-Assignments-/blob/main/Assignment7.ipynb\" target=\"_parent\"><img src=\"https://colab.research.google.com/assets/colab-badge.svg\" alt=\"Open In Colab\"/></a>"
      ]
    },
    {
      "cell_type": "code",
      "execution_count": 3,
      "metadata": {
        "colab": {
          "base_uri": "https://localhost:8080/"
        },
        "id": "tRCwWNZ5M1sv",
        "outputId": "913db8df-064f-4ac2-cd64-7af85eec29eb"
      },
      "outputs": [
        {
          "output_type": "stream",
          "name": "stdout",
          "text": [
            "\u001b[2K     \u001b[90m━━━━━━━━━━━━━━━━━━━━━━━━━━━━━━━━━━━━━━━━\u001b[0m \u001b[32m44.3/44.3 kB\u001b[0m \u001b[31m2.0 MB/s\u001b[0m eta \u001b[36m0:00:00\u001b[0m\n",
            "\u001b[2K   \u001b[90m━━━━━━━━━━━━━━━━━━━━━━━━━━━━━━━━━━━━━━━━\u001b[0m \u001b[32m9.9/9.9 MB\u001b[0m \u001b[31m62.4 MB/s\u001b[0m eta \u001b[36m0:00:00\u001b[0m\n",
            "\u001b[2K   \u001b[90m━━━━━━━━━━━━━━━━━━━━━━━━━━━━━━━━━━━━━━━━\u001b[0m \u001b[32m6.9/6.9 MB\u001b[0m \u001b[31m62.6 MB/s\u001b[0m eta \u001b[36m0:00:00\u001b[0m\n",
            "\u001b[2K   \u001b[90m━━━━━━━━━━━━━━━━━━━━━━━━━━━━━━━━━━━━━━━━\u001b[0m \u001b[32m79.1/79.1 kB\u001b[0m \u001b[31m5.1 MB/s\u001b[0m eta \u001b[36m0:00:00\u001b[0m\n",
            "\u001b[?25h"
          ]
        }
      ],
      "source": [
        "!pip install streamlit pyngrok scikit-learn pandas matplotlib joblib -q\n"
      ]
    },
    {
      "cell_type": "code",
      "source": [
        "from sklearn.datasets import load_iris\n",
        "from sklearn.ensemble import RandomForestClassifier\n",
        "from sklearn.model_selection import train_test_split\n",
        "import pandas as pd\n",
        "import joblib\n",
        "\n",
        "# Load dataset (no CSV needed)\n",
        "iris = load_iris()\n",
        "df = pd.DataFrame(iris.data, columns=iris.feature_names)\n",
        "df['Species'] = pd.Categorical.from_codes(iris.target, iris.target_names)\n",
        "\n",
        "# Train-test split\n",
        "X = df.drop(columns=[\"Species\"])\n",
        "y = df[\"Species\"]\n",
        "X_train, X_test, y_train, y_test = train_test_split(X, y, test_size=0.3, random_state=42)\n",
        "\n",
        "# Train model\n",
        "clf = RandomForestClassifier(n_estimators=100, random_state=42)\n",
        "clf.fit(X_train, y_train)\n",
        "\n",
        "# Save model\n",
        "joblib.dump(clf, \"model.pkl\")\n",
        "print(\"Model saved as model.pkl\")\n"
      ],
      "metadata": {
        "colab": {
          "base_uri": "https://localhost:8080/"
        },
        "id": "QwDxBXz6OrRn",
        "outputId": "00edc228-75bd-4373-ab52-506bba4011c9"
      },
      "execution_count": 4,
      "outputs": [
        {
          "output_type": "stream",
          "name": "stdout",
          "text": [
            "Model saved as model.pkl\n"
          ]
        }
      ]
    },
    {
      "cell_type": "code",
      "source": [
        "%%writefile app.py\n",
        "import streamlit as st\n",
        "import joblib\n",
        "import pandas as pd\n",
        "import matplotlib.pyplot as plt\n",
        "\n",
        "# Load the trained model\n",
        "@st.cache_resource\n",
        "def load_model():\n",
        "    return joblib.load(\"model.pkl\")\n",
        "\n",
        "model = load_model()\n",
        "\n",
        "st.title(\"🌸 Iris Species Predictor (Colab Demo)\")\n",
        "st.markdown(\"Use the sliders in the sidebar to input flower measurements and predict its species.\")\n",
        "\n",
        "# Sidebar for user inputs\n",
        "st.sidebar.header(\"Input Features\")\n",
        "def get_user_input():\n",
        "    return {\n",
        "        \"sepal length (cm)\": st.sidebar.slider(\"Sepal Length\", 4.0, 8.0, 5.0),\n",
        "        \"sepal width (cm)\": st.sidebar.slider(\"Sepal Width\", 2.0, 4.5, 3.0),\n",
        "        \"petal length (cm)\": st.sidebar.slider(\"Petal Length\", 1.0, 7.0, 4.0),\n",
        "        \"petal width (cm)\": st.sidebar.slider(\"Petal Width\", 0.1, 2.5, 1.0),\n",
        "    }\n",
        "\n",
        "input_data = get_user_input()\n",
        "input_df = pd.DataFrame([input_data])\n",
        "\n",
        "st.subheader(\"Your Input Features\")\n",
        "st.write(input_df)\n",
        "\n",
        "# Prediction button\n",
        "if st.button(\"Predict\"):\n",
        "    pred = model.predict(input_df)[0]\n",
        "    proba = model.predict_proba(input_df)[0]\n",
        "\n",
        "    st.success(f\"Prediction: **{pred}**\")\n",
        "\n",
        "    # Show probability as a bar chart\n",
        "    st.subheader(\"Prediction Confidence\")\n",
        "    fig, ax = plt.subplots()\n",
        "    ax.bar(model.classes_, proba, color=\"skyblue\", edgecolor=\"black\")\n",
        "    ax.set_ylabel(\"Probability\")\n",
        "    ax.set_xlabel(\"Class\")\n",
        "    st.pyplot(fig)\n"
      ],
      "metadata": {
        "colab": {
          "base_uri": "https://localhost:8080/"
        },
        "id": "-NT-MZHkO2GL",
        "outputId": "d279aeb7-8dbe-4dcd-c5b0-7d99dacca0be"
      },
      "execution_count": 7,
      "outputs": [
        {
          "output_type": "stream",
          "name": "stdout",
          "text": [
            "Overwriting app.py\n"
          ]
        }
      ]
    },
    {
      "cell_type": "code",
      "source": [
        "!ngrok config add-authtoken 309TCHK3gmzUlSpuGjeNVEndWnY_6uirYdACFGGidE4P99AQ\n"
      ],
      "metadata": {
        "colab": {
          "base_uri": "https://localhost:8080/"
        },
        "id": "4TBnBGbJPQf0",
        "outputId": "5ace897d-f235-4e5d-efa1-02194d40dbbd"
      },
      "execution_count": 12,
      "outputs": [
        {
          "output_type": "stream",
          "name": "stdout",
          "text": [
            "Authtoken saved to configuration file: /root/.config/ngrok/ngrok.yml\n"
          ]
        }
      ]
    },
    {
      "cell_type": "code",
      "source": [
        "from pyngrok import ngrok\n",
        "public_url = ngrok.connect(8501)\n",
        "print(f\"Access your app here: {public_url}\")\n",
        "!streamlit run app.py --server.port 8501 &> /dev/null &\n"
      ],
      "metadata": {
        "colab": {
          "base_uri": "https://localhost:8080/"
        },
        "id": "fUjUKZjuPS60",
        "outputId": "f186acfd-ec64-4985-93aa-77f1ec1f8406"
      },
      "execution_count": 13,
      "outputs": [
        {
          "output_type": "stream",
          "name": "stdout",
          "text": [
            "Access your app here: NgrokTunnel: \"https://623ed6674d65.ngrok-free.app\" -> \"http://localhost:8501\"\n"
          ]
        }
      ]
    }
  ]
}